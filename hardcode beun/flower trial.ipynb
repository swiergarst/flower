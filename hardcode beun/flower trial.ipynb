{
 "cells": [
  {
   "cell_type": "code",
   "execution_count": 1,
   "id": "e088bdd2",
   "metadata": {
    "scrolled": true
   },
   "outputs": [
    {
     "ename": "ModuleNotFoundError",
     "evalue": "No module named 'flwr'",
     "output_type": "error",
     "traceback": [
      "\u001b[0;31m---------------------------------------------------------------------------\u001b[0m",
      "\u001b[0;31mModuleNotFoundError\u001b[0m                       Traceback (most recent call last)",
      "\u001b[0;32m<ipython-input-1-87c58035b3b2>\u001b[0m in \u001b[0;36m<module>\u001b[0;34m\u001b[0m\n\u001b[1;32m      7\u001b[0m \u001b[0;32mimport\u001b[0m \u001b[0mpandas\u001b[0m \u001b[0;32mas\u001b[0m \u001b[0mpd\u001b[0m\u001b[0;34m\u001b[0m\u001b[0;34m\u001b[0m\u001b[0m\n\u001b[1;32m      8\u001b[0m \u001b[0;34m\u001b[0m\u001b[0m\n\u001b[0;32m----> 9\u001b[0;31m \u001b[0;32mimport\u001b[0m \u001b[0mflwr\u001b[0m \u001b[0;32mas\u001b[0m \u001b[0mfl\u001b[0m\u001b[0;34m\u001b[0m\u001b[0;34m\u001b[0m\u001b[0m\n\u001b[0m",
      "\u001b[0;31mModuleNotFoundError\u001b[0m: No module named 'flwr'"
     ]
    }
   ],
   "source": [
    "import torch\n",
    "import torch.nn as nn\n",
    "import torch.optim as optim\n",
    "import numpy as np\n",
    "import math\n",
    "import matplotlib.pyplot as plt\n",
    "import pandas as pd\n",
    "\n",
    "import flwr as fl"
   ]
  },
  {
   "cell_type": "code",
   "execution_count": 12,
   "id": "1081b25c",
   "metadata": {},
   "outputs": [],
   "source": [
    "def get_datasets(dataset, class_imbalance = False, sample_imbalance = False):\n",
    "    if dataset == 'banana':\n",
    "        datasets =  [\"/home/swier/Documents/afstuderen/nnTest/v6_simpleNN_py/local/banana/banana_dataset_client\" + str(i) + \".csv\" for i in range(10)]\n",
    "    elif dataset == 'MNIST':\n",
    "        datasets= [\"/home/swier/Documents/afstuderen/nnTest/v6_simpleNN_py/local/MNIST/MNIST_dataset_client\" + str(i) + \".csv\" for i in range(10)]\n",
    "    elif dataset == 'MNIST_2class':\n",
    "        if class_imbalance:\n",
    "            datasets = [\"/home/swier/Documents/afstuderen/datasets/MNIST_2Class_class_imbalance/MNIST_2Class_class_imbalance_client\" + str(i) + \".csv\" for i in range(10)]\n",
    "        elif sample_imbalance:\n",
    "            datasets =[\"/home/swier/Documents/afstuderen/datasets/MNIST_2Class_Sample_Imbalance/MNIST_2Class_sample_imbalance_client\" + str(i) + \".csv\" for i in range(10)]\n",
    "        else:\n",
    "            datasets= [\"/home/swier/Documents/afstuderen/datasets/MNIST_2Class_IID/MNIST_2Class_IID_client\" + str(i) + \".csv\" for i in range(10)]\n",
    "    elif dataset == 'MNIST_4class':\n",
    "        if class_imbalance:\n",
    "            datasets = [\"/home/swier/Documents/afstuderen/datasets/4Class_class_imbalance/MNIST_4Class_class_imbalance_client\" + str(i) + \".csv\" for i in range(10)]\n",
    "        elif sample_imbalance:\n",
    "            datasets = [\"/home/swier/Documents/afstuderen/datasets/4Class_sample_imbalance/MNIST_4Class_sample_imbalance_client\" + str(i) + \".csv\" for i in range(10)]\n",
    "        else:\n",
    "            datasets = [\"/home/swier/Documents/afstuderen/datasets/4Class_IID/MNIST_4Class_IID_client\" + str(i) + \".csv\" for i in range(10)]\n",
    "    elif dataset == \"fashion_MNIST\" :\n",
    "        if class_imbalance:\n",
    "            datasets = [\"/home/swier/Documents/afstuderen/datasets/fashion_MNIST_ci/fashion_MNIST_superCI_client\" + str(i) + \".csv\" for i in range(10)]\n",
    "        else:\n",
    "            datasets = [\"/home/swier/Documents/afstuderen/datasets/fashion_mnist/csv/fashion_MNIST_dataset_client\" + str(i) + \".csv\" for i in range(10)]\n",
    "    elif dataset == \"A2_PCA\" :\n",
    "        if class_imbalance:\n",
    "            datasets = [\"/home/swier/Documents/afstuderen/datasets/RMA/A2/PCA/class imbalance/A2_PCA_client\"+ str(i) + \".csv\" for i in range(10)]\n",
    "        elif sample_imbalance:\n",
    "            datasets = [\"/home/swier/Documents/afstuderen/datasets/RMA/A2/PCA/sample imbalance/AML_A2_PCA_client\"+ str(i) + \".csv\" for i in range(10)]\n",
    "        else:\n",
    "            datasets = [\"/home/swier/Documents/afstuderen/datasets/RMA/A2/PCA/IID/AML_A2_PCA_client\"+ str(i) + \".csv\" for i in range(10)]\n",
    "    elif dataset == \"A2_raw\" : \n",
    "        datasets = [\"/home/swier/Documents/afstuderen/datasets/RMA/A2/AML_A2_client\"+ str(i) + \".csv\" for i in range(10)]\n",
    "    elif dataset == \"3node\" :\n",
    "        if class_imbalance: \n",
    "            datasets = [\"/home/swier/Documents/afstuderen/datasets/RMA/A\" + str(i) + \"/3node_PCA_A\" + str(i) + \".csv\" for i in range(1,4)]\n",
    "        else :\n",
    "            datasets = [\"/home/swier/Documents/afstuderen/datasets/RMA/A\" + str(i) + \"/3node_PCA_balanced_A\" + str(i) + \".csv\" for i in range(1,4)]\n",
    "    elif dataset == \"2node\" : \n",
    "        datasets = [\"/home/swier/Documents/afstuderen/datasets/RMA/A\" + str(i) + \"/2node_PCA_A\" + str(i) + \".csv\" for i in range(1,3)]\n",
    "    else :\n",
    "        raise(ValueError(\"unknown dataset\"))\n",
    "    \n",
    "    return datasets\n"
   ]
  },
  {
   "cell_type": "code",
   "execution_count": 32,
   "id": "1239bd26",
   "metadata": {},
   "outputs": [],
   "source": [
    "def get_data(dataset, client_id, class_imbalance=False, sample_imbalance=False, model_choice=\"FNN\"):\n",
    "    datasets_paths= get_datasets(dataset,class_imbalance, sample_imbalance)\n",
    "\n",
    "    dataset_path = datasets_paths[client_id]\n",
    "    \n",
    "    df = pd.read_csv(path)\n",
    "    \n",
    "    X_train_arr = df.loc[df['test/train'] == 'train'].drop(columns = ['test/train', 'label']).values\n",
    "    y_train_arr = df.loc[df['test/train'] == 'train']['label'].values\n",
    "    X_test_arr = df.loc[df['test/train'] == 'test'].drop(columns = [\"test/train\", \"label\"]).values\n",
    "    y_test_arr = df.loc[df['test/train'] == 'test']['label'].values\n",
    "    \n",
    "    X_train = torch.as_tensor(X_train_arr, dtype=torch.double)\n",
    "    y_train = torch.as_tensor(y_train_arr, dtype=torch.int64)\n",
    "    X_test = torch.as_tensor(X_test_arr, dtype=torch.double)\n",
    "    y_test = torch.as_tensor(y_test_arr, dtype=torch.int64)\n",
    "    \n",
    "    if model_choice == \"CNN\":\n",
    "        reshape_size = int(math.sqrt(X_test.shape[1]))\n",
    "        X_test = X_test.reshape(X_test.shape[0], 1, reshape_size, reshape_size)\n",
    "        X_train = X_train.reshape(X_train.shape[0], 1, reshape_size, reshape_size)\n",
    "    \n",
    "    return X_train, y_train, X_test, y_test    \n",
    "    \n",
    "  "
   ]
  },
  {
   "cell_type": "code",
   "execution_count": 5,
   "id": "4acaaff8",
   "metadata": {},
   "outputs": [],
   "source": [
    "class MNIST_2class_FNN(nn.Module):\n",
    "    def __init__(self):\n",
    "        super(MNIST_2class_FNN, self).__init__()\n",
    "        self.lin1 = nn.Linear(28*28,100)\n",
    "        self.relu = nn.ReLU()\n",
    "        self.lin2 = nn.Linear(100,2)\n",
    "        \n",
    "    def forward(self, input):\n",
    "        y1 = self.lin1(input)\n",
    "        y2 = self.relu(y1)\n",
    "        return(self.lin2(y2))\n",
    "    \n",
    "    def train(self,X, Y, lr):\n",
    "        optimizer = optim.SGD(self.parameters(), lr=lr)\n",
    "        optimizer.zero_grad()\n",
    "        criterion = nn.CrossEntropyLoss()\n",
    "        \n",
    "        out = self.forward(X)\n",
    "        loss = criterion(out, Y)\n",
    "        loss.backward()\n",
    "        optimizer.step()\n",
    "        \n",
    "    def test(self, X, Y):\n",
    "        correct = 0\n",
    "        with torch.no_grad():\n",
    "            out = self.forward(X)\n",
    "            _, pred = torch.max(out.data, 1)\n",
    "            correct += (pred==Y).sum().item()\n",
    "        return (correct / X.size()[0])"
   ]
  },
  {
   "cell_type": "code",
   "execution_count": 24,
   "id": "12df09b0",
   "metadata": {},
   "outputs": [],
   "source": [
    "def run(rounds, runs, batch_amount, lr,  ci = False, si = False):\n",
    "\n",
    "    results = np.zeros((runs, rounds))\n",
    "    X_train, y_train, X_test, y_test = get_data(\"MNIST_2class\", ci, si, \"FNN\")\n",
    "    for run in range(runs):\n",
    "        torch.manual_seed(run)\n",
    "        net = MNIST_2class_FNN()\n",
    "        net = net.double()\n",
    "        optimizer = optim.SGD(net.parameters(), lr = lr)\n",
    "        criterion = nn.CrossEntropyLoss()\n",
    "\n",
    "        for roun in range(rounds):\n",
    "            net.train(X_train, y_train,  lr)\n",
    "            results[run, roun] = net.test(X_test, y_test)\n",
    "    return results"
   ]
  },
  {
   "cell_type": "code",
   "execution_count": 36,
   "id": "890f02eb",
   "metadata": {},
   "outputs": [],
   "source": [
    "class FlClient(fl.client.NumPyClient):\n",
    "    def __init__(self, client_id, lr):\n",
    "        super (FlClient, self).__init__()\n",
    "        self.net = MNIST_2class_FNN()\n",
    "        self.X_train, self.y_train, self.X_test, self.y_test = get_data(\"MNIST_2class\", client_id)\n",
    "        self.lr = lr\n",
    "        \n",
    "    def get_parameters(self):\n",
    "        return [val.cpu().numpy() for _, val in self.net.state_dict().items()]\n",
    "    \n",
    "    def set_parameters(self, parameters):\n",
    "        params_dict = zip(self.net.state_dict().keys(), parameters)\n",
    "        state_dict = OrderedDict({k: torch.tensor(v) for k, v in params_dict})\n",
    "        self.net.load_state_dict(state_dict, strict=True)  \n",
    "\n",
    "    def fit(self, parameters, config):\n",
    "        self.set_parameters(parameters)\n",
    "        self.net.train(X_train, y_train, self.lr)\n",
    "        return self.get_parameters(), num_examples[\"trainset\"], {}"
   ]
  },
  {
   "cell_type": "code",
   "execution_count": 37,
   "id": "a0e4dfa5",
   "metadata": {
    "scrolled": true
   },
   "outputs": [
    {
     "name": "stderr",
     "output_type": "stream",
     "text": [
      "INFO flower 2022-02-28 09:27:27,709 | app.py:77 | Flower server running (insecure, 3 rounds)\n",
      "INFO flower 2022-02-28 09:27:27,710 | server.py:118 | Initializing global parameters\n",
      "INFO flower 2022-02-28 09:27:27,710 | server.py:304 | Requesting initial parameters from one random client\n"
     ]
    },
    {
     "ename": "KeyboardInterrupt",
     "evalue": "",
     "output_type": "error",
     "traceback": [
      "\u001b[0;31m---------------------------------------------------------------------------\u001b[0m",
      "\u001b[0;31mKeyboardInterrupt\u001b[0m                         Traceback (most recent call last)",
      "Input \u001b[0;32mIn [37]\u001b[0m, in \u001b[0;36m<cell line: 1>\u001b[0;34m()\u001b[0m\n\u001b[0;32m----> 1\u001b[0m \u001b[43mfl\u001b[49m\u001b[38;5;241;43m.\u001b[39;49m\u001b[43mserver\u001b[49m\u001b[38;5;241;43m.\u001b[39;49m\u001b[43mstart_server\u001b[49m\u001b[43m(\u001b[49m\u001b[43mconfig\u001b[49m\u001b[38;5;241;43m=\u001b[39;49m\u001b[43m{\u001b[49m\u001b[38;5;124;43m\"\u001b[39;49m\u001b[38;5;124;43mnum_rounds\u001b[39;49m\u001b[38;5;124;43m\"\u001b[39;49m\u001b[43m:\u001b[49m\u001b[43m \u001b[49m\u001b[38;5;241;43m3\u001b[39;49m\u001b[43m}\u001b[49m\u001b[43m)\u001b[49m\n",
      "File \u001b[0;32m~/miniconda/envs/flower/lib/python3.9/site-packages/flwr/server/app.py:83\u001b[0m, in \u001b[0;36mstart_server\u001b[0;34m(server_address, server, config, strategy, grpc_max_message_length, force_final_distributed_eval)\u001b[0m\n\u001b[1;32m     72\u001b[0m grpc_server \u001b[38;5;241m=\u001b[39m start_insecure_grpc_server(\n\u001b[1;32m     73\u001b[0m     client_manager\u001b[38;5;241m=\u001b[39minitialized_server\u001b[38;5;241m.\u001b[39mclient_manager(),\n\u001b[1;32m     74\u001b[0m     server_address\u001b[38;5;241m=\u001b[39mserver_address,\n\u001b[1;32m     75\u001b[0m     max_message_length\u001b[38;5;241m=\u001b[39mgrpc_max_message_length,\n\u001b[1;32m     76\u001b[0m )\n\u001b[1;32m     77\u001b[0m log(\n\u001b[1;32m     78\u001b[0m     INFO,\n\u001b[1;32m     79\u001b[0m     \u001b[38;5;124m\"\u001b[39m\u001b[38;5;124mFlower server running (insecure, \u001b[39m\u001b[38;5;132;01m%s\u001b[39;00m\u001b[38;5;124m rounds)\u001b[39m\u001b[38;5;124m\"\u001b[39m,\n\u001b[1;32m     80\u001b[0m     initialized_config[\u001b[38;5;124m\"\u001b[39m\u001b[38;5;124mnum_rounds\u001b[39m\u001b[38;5;124m\"\u001b[39m],\n\u001b[1;32m     81\u001b[0m )\n\u001b[0;32m---> 83\u001b[0m \u001b[43m_fl\u001b[49m\u001b[43m(\u001b[49m\n\u001b[1;32m     84\u001b[0m \u001b[43m    \u001b[49m\u001b[43mserver\u001b[49m\u001b[38;5;241;43m=\u001b[39;49m\u001b[43minitialized_server\u001b[49m\u001b[43m,\u001b[49m\n\u001b[1;32m     85\u001b[0m \u001b[43m    \u001b[49m\u001b[43mconfig\u001b[49m\u001b[38;5;241;43m=\u001b[39;49m\u001b[43minitialized_config\u001b[49m\u001b[43m,\u001b[49m\n\u001b[1;32m     86\u001b[0m \u001b[43m    \u001b[49m\u001b[43mforce_final_distributed_eval\u001b[49m\u001b[38;5;241;43m=\u001b[39;49m\u001b[43mforce_final_distributed_eval\u001b[49m\u001b[43m,\u001b[49m\n\u001b[1;32m     87\u001b[0m \u001b[43m\u001b[49m\u001b[43m)\u001b[49m\n\u001b[1;32m     89\u001b[0m \u001b[38;5;66;03m# Stop the gRPC server\u001b[39;00m\n\u001b[1;32m     90\u001b[0m grpc_server\u001b[38;5;241m.\u001b[39mstop(grace\u001b[38;5;241m=\u001b[39m\u001b[38;5;241m1\u001b[39m)\n",
      "File \u001b[0;32m~/miniconda/envs/flower/lib/python3.9/site-packages/flwr/server/app.py:118\u001b[0m, in \u001b[0;36m_fl\u001b[0;34m(server, config, force_final_distributed_eval)\u001b[0m\n\u001b[1;32m    114\u001b[0m \u001b[38;5;28;01mdef\u001b[39;00m \u001b[38;5;21m_fl\u001b[39m(\n\u001b[1;32m    115\u001b[0m     server: Server, config: Dict[\u001b[38;5;28mstr\u001b[39m, \u001b[38;5;28mint\u001b[39m], force_final_distributed_eval: \u001b[38;5;28mbool\u001b[39m\n\u001b[1;32m    116\u001b[0m ) \u001b[38;5;241m-\u001b[39m\u001b[38;5;241m>\u001b[39m \u001b[38;5;28;01mNone\u001b[39;00m:\n\u001b[1;32m    117\u001b[0m     \u001b[38;5;66;03m# Fit model\u001b[39;00m\n\u001b[0;32m--> 118\u001b[0m     hist \u001b[38;5;241m=\u001b[39m \u001b[43mserver\u001b[49m\u001b[38;5;241;43m.\u001b[39;49m\u001b[43mfit\u001b[49m\u001b[43m(\u001b[49m\u001b[43mnum_rounds\u001b[49m\u001b[38;5;241;43m=\u001b[39;49m\u001b[43mconfig\u001b[49m\u001b[43m[\u001b[49m\u001b[38;5;124;43m\"\u001b[39;49m\u001b[38;5;124;43mnum_rounds\u001b[39;49m\u001b[38;5;124;43m\"\u001b[39;49m\u001b[43m]\u001b[49m\u001b[43m)\u001b[49m\n\u001b[1;32m    119\u001b[0m     log(INFO, \u001b[38;5;124m\"\u001b[39m\u001b[38;5;124mapp_fit: losses_distributed \u001b[39m\u001b[38;5;132;01m%s\u001b[39;00m\u001b[38;5;124m\"\u001b[39m, \u001b[38;5;28mstr\u001b[39m(hist\u001b[38;5;241m.\u001b[39mlosses_distributed))\n\u001b[1;32m    120\u001b[0m     log(INFO, \u001b[38;5;124m\"\u001b[39m\u001b[38;5;124mapp_fit: metrics_distributed \u001b[39m\u001b[38;5;132;01m%s\u001b[39;00m\u001b[38;5;124m\"\u001b[39m, \u001b[38;5;28mstr\u001b[39m(hist\u001b[38;5;241m.\u001b[39mmetrics_distributed))\n",
      "File \u001b[0;32m~/miniconda/envs/flower/lib/python3.9/site-packages/flwr/server/server.py:119\u001b[0m, in \u001b[0;36mServer.fit\u001b[0;34m(self, num_rounds)\u001b[0m\n\u001b[1;32m    117\u001b[0m \u001b[38;5;66;03m# Initialize parameters\u001b[39;00m\n\u001b[1;32m    118\u001b[0m log(INFO, \u001b[38;5;124m\"\u001b[39m\u001b[38;5;124mInitializing global parameters\u001b[39m\u001b[38;5;124m\"\u001b[39m)\n\u001b[0;32m--> 119\u001b[0m \u001b[38;5;28mself\u001b[39m\u001b[38;5;241m.\u001b[39mparameters \u001b[38;5;241m=\u001b[39m \u001b[38;5;28;43mself\u001b[39;49m\u001b[38;5;241;43m.\u001b[39;49m\u001b[43m_get_initial_parameters\u001b[49m\u001b[43m(\u001b[49m\u001b[43m)\u001b[49m\n\u001b[1;32m    120\u001b[0m log(INFO, \u001b[38;5;124m\"\u001b[39m\u001b[38;5;124mEvaluating initial parameters\u001b[39m\u001b[38;5;124m\"\u001b[39m)\n\u001b[1;32m    121\u001b[0m res \u001b[38;5;241m=\u001b[39m \u001b[38;5;28mself\u001b[39m\u001b[38;5;241m.\u001b[39mstrategy\u001b[38;5;241m.\u001b[39mevaluate(parameters\u001b[38;5;241m=\u001b[39m\u001b[38;5;28mself\u001b[39m\u001b[38;5;241m.\u001b[39mparameters)\n",
      "File \u001b[0;32m~/miniconda/envs/flower/lib/python3.9/site-packages/flwr/server/server.py:305\u001b[0m, in \u001b[0;36mServer._get_initial_parameters\u001b[0;34m(self)\u001b[0m\n\u001b[1;32m    303\u001b[0m \u001b[38;5;66;03m# Get initial parameters from one of the clients\u001b[39;00m\n\u001b[1;32m    304\u001b[0m log(INFO, \u001b[38;5;124m\"\u001b[39m\u001b[38;5;124mRequesting initial parameters from one random client\u001b[39m\u001b[38;5;124m\"\u001b[39m)\n\u001b[0;32m--> 305\u001b[0m random_client \u001b[38;5;241m=\u001b[39m \u001b[38;5;28;43mself\u001b[39;49m\u001b[38;5;241;43m.\u001b[39;49m\u001b[43m_client_manager\u001b[49m\u001b[38;5;241;43m.\u001b[39;49m\u001b[43msample\u001b[49m\u001b[43m(\u001b[49m\u001b[38;5;241;43m1\u001b[39;49m\u001b[43m)\u001b[49m[\u001b[38;5;241m0\u001b[39m]\n\u001b[1;32m    306\u001b[0m parameters_res \u001b[38;5;241m=\u001b[39m random_client\u001b[38;5;241m.\u001b[39mget_parameters()\n\u001b[1;32m    307\u001b[0m log(INFO, \u001b[38;5;124m\"\u001b[39m\u001b[38;5;124mReceived initial parameters from one random client\u001b[39m\u001b[38;5;124m\"\u001b[39m)\n",
      "File \u001b[0;32m~/miniconda/envs/flower/lib/python3.9/site-packages/flwr/server/client_manager.py:130\u001b[0m, in \u001b[0;36mSimpleClientManager.sample\u001b[0;34m(self, num_clients, min_num_clients, criterion)\u001b[0m\n\u001b[1;32m    128\u001b[0m \u001b[38;5;28;01mif\u001b[39;00m min_num_clients \u001b[38;5;129;01mis\u001b[39;00m \u001b[38;5;28;01mNone\u001b[39;00m:\n\u001b[1;32m    129\u001b[0m     min_num_clients \u001b[38;5;241m=\u001b[39m num_clients\n\u001b[0;32m--> 130\u001b[0m \u001b[38;5;28;43mself\u001b[39;49m\u001b[38;5;241;43m.\u001b[39;49m\u001b[43mwait_for\u001b[49m\u001b[43m(\u001b[49m\u001b[43mmin_num_clients\u001b[49m\u001b[43m)\u001b[49m\n\u001b[1;32m    131\u001b[0m \u001b[38;5;66;03m# Sample clients which meet the criterion\u001b[39;00m\n\u001b[1;32m    132\u001b[0m available_cids \u001b[38;5;241m=\u001b[39m \u001b[38;5;28mlist\u001b[39m(\u001b[38;5;28mself\u001b[39m\u001b[38;5;241m.\u001b[39mclients)\n",
      "File \u001b[0;32m~/miniconda/envs/flower/lib/python3.9/site-packages/flwr/server/client_manager.py:81\u001b[0m, in \u001b[0;36mSimpleClientManager.wait_for\u001b[0;34m(self, num_clients, timeout)\u001b[0m\n\u001b[1;32m     75\u001b[0m \u001b[38;5;124;03m\"\"\"Block until at least `num_clients` are available or until a timeout\u001b[39;00m\n\u001b[1;32m     76\u001b[0m \u001b[38;5;124;03mis reached.\u001b[39;00m\n\u001b[1;32m     77\u001b[0m \n\u001b[1;32m     78\u001b[0m \u001b[38;5;124;03mCurrent timeout default: 1 day.\u001b[39;00m\n\u001b[1;32m     79\u001b[0m \u001b[38;5;124;03m\"\"\"\u001b[39;00m\n\u001b[1;32m     80\u001b[0m \u001b[38;5;28;01mwith\u001b[39;00m \u001b[38;5;28mself\u001b[39m\u001b[38;5;241m.\u001b[39m_cv:\n\u001b[0;32m---> 81\u001b[0m     \u001b[38;5;28;01mreturn\u001b[39;00m \u001b[38;5;28;43mself\u001b[39;49m\u001b[38;5;241;43m.\u001b[39;49m\u001b[43m_cv\u001b[49m\u001b[38;5;241;43m.\u001b[39;49m\u001b[43mwait_for\u001b[49m\u001b[43m(\u001b[49m\n\u001b[1;32m     82\u001b[0m \u001b[43m        \u001b[49m\u001b[38;5;28;43;01mlambda\u001b[39;49;00m\u001b[43m:\u001b[49m\u001b[43m \u001b[49m\u001b[38;5;28;43mlen\u001b[39;49m\u001b[43m(\u001b[49m\u001b[38;5;28;43mself\u001b[39;49m\u001b[38;5;241;43m.\u001b[39;49m\u001b[43mclients\u001b[49m\u001b[43m)\u001b[49m\u001b[43m \u001b[49m\u001b[38;5;241;43m>\u001b[39;49m\u001b[38;5;241;43m=\u001b[39;49m\u001b[43m \u001b[49m\u001b[43mnum_clients\u001b[49m\u001b[43m,\u001b[49m\u001b[43m \u001b[49m\u001b[43mtimeout\u001b[49m\u001b[38;5;241;43m=\u001b[39;49m\u001b[43mtimeout\u001b[49m\n\u001b[1;32m     83\u001b[0m \u001b[43m    \u001b[49m\u001b[43m)\u001b[49m\n",
      "File \u001b[0;32m~/miniconda/envs/flower/lib/python3.9/threading.py:347\u001b[0m, in \u001b[0;36mCondition.wait_for\u001b[0;34m(self, predicate, timeout)\u001b[0m\n\u001b[1;32m    345\u001b[0m             \u001b[38;5;28;01mif\u001b[39;00m waittime \u001b[38;5;241m<\u001b[39m\u001b[38;5;241m=\u001b[39m \u001b[38;5;241m0\u001b[39m:\n\u001b[1;32m    346\u001b[0m                 \u001b[38;5;28;01mbreak\u001b[39;00m\n\u001b[0;32m--> 347\u001b[0m     \u001b[38;5;28;43mself\u001b[39;49m\u001b[38;5;241;43m.\u001b[39;49m\u001b[43mwait\u001b[49m\u001b[43m(\u001b[49m\u001b[43mwaittime\u001b[49m\u001b[43m)\u001b[49m\n\u001b[1;32m    348\u001b[0m     result \u001b[38;5;241m=\u001b[39m predicate()\n\u001b[1;32m    349\u001b[0m \u001b[38;5;28;01mreturn\u001b[39;00m result\n",
      "File \u001b[0;32m~/miniconda/envs/flower/lib/python3.9/threading.py:316\u001b[0m, in \u001b[0;36mCondition.wait\u001b[0;34m(self, timeout)\u001b[0m\n\u001b[1;32m    314\u001b[0m \u001b[38;5;28;01melse\u001b[39;00m:\n\u001b[1;32m    315\u001b[0m     \u001b[38;5;28;01mif\u001b[39;00m timeout \u001b[38;5;241m>\u001b[39m \u001b[38;5;241m0\u001b[39m:\n\u001b[0;32m--> 316\u001b[0m         gotit \u001b[38;5;241m=\u001b[39m \u001b[43mwaiter\u001b[49m\u001b[38;5;241;43m.\u001b[39;49m\u001b[43macquire\u001b[49m\u001b[43m(\u001b[49m\u001b[38;5;28;43;01mTrue\u001b[39;49;00m\u001b[43m,\u001b[49m\u001b[43m \u001b[49m\u001b[43mtimeout\u001b[49m\u001b[43m)\u001b[49m\n\u001b[1;32m    317\u001b[0m     \u001b[38;5;28;01melse\u001b[39;00m:\n\u001b[1;32m    318\u001b[0m         gotit \u001b[38;5;241m=\u001b[39m waiter\u001b[38;5;241m.\u001b[39macquire(\u001b[38;5;28;01mFalse\u001b[39;00m)\n",
      "\u001b[0;31mKeyboardInterrupt\u001b[0m: "
     ]
    }
   ],
   "source": [
    "fl.server.start_server(config={\"num_rounds\": 3})"
   ]
  }
 ],
 "metadata": {
  "kernelspec": {
   "display_name": "Python 3",
   "language": "python",
   "name": "python3"
  },
  "language_info": {
   "codemirror_mode": {
    "name": "ipython",
    "version": 3
   },
   "file_extension": ".py",
   "mimetype": "text/x-python",
   "name": "python",
   "nbconvert_exporter": "python",
   "pygments_lexer": "ipython3",
   "version": "3.7.10"
  }
 },
 "nbformat": 4,
 "nbformat_minor": 5
}
